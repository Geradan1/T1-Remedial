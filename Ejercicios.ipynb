{
 "cells": [
  {
   "cell_type": "code",
   "execution_count": 1,
   "metadata": {},
   "outputs": [
    {
     "name": "stdout",
     "output_type": "stream",
     "text": [
      "Setup terminado\n"
     ]
    }
   ],
   "source": [
    "import matplotlib.pyplot as plt\n",
    "print(\"Setup terminado\")"
   ]
  },
  {
   "cell_type": "markdown",
   "metadata": {},
   "source": [
    "# Ejercicio 1\n",
    "\n",
    "La Asociación de Empresas para el Ahorro de la Energía en la Edificación (aeaee) busca fomen-\n",
    "tar la cultura del ahorro de energía y desarrollar la comodidad en las edificaciones para reducir\n",
    "\n",
    "el consumo de energía eléctrica, gas y otros combustibles. Para ello, mediante un estudio se\n",
    "determinaron los factores siguientes que aportan calor a la vivienda. ¿A qué conclusiones llegas?\n",
    "\n",
    " R= En conclusión, según los datos proporcionados, se destaca que la azotea es el elemento que más genera calor en las viviendas ya que tiene un 70%, esto se puede deber o a los materiales de la azotea ya que hay materiales que pueden tener una alta capacidad de absorción de calor. Por ejemplo, techos de lámina metálica o tejas oscuras pueden absorber más calor que otros materiales más reflectantes.\n",
    " "
   ]
  }
 ],
 "metadata": {
  "kernelspec": {
   "display_name": "Python 3",
   "language": "python",
   "name": "python3"
  },
  "language_info": {
   "codemirror_mode": {
    "name": "ipython",
    "version": 3
   },
   "file_extension": ".py",
   "mimetype": "text/x-python",
   "name": "python",
   "nbconvert_exporter": "python",
   "pygments_lexer": "ipython3",
   "version": "3.12.2"
  }
 },
 "nbformat": 4,
 "nbformat_minor": 2
}

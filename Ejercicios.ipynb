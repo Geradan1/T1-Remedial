{
 "cells": [
  {
   "cell_type": "code",
   "execution_count": 1,
   "metadata": {},
   "outputs": [
    {
     "name": "stdout",
     "output_type": "stream",
     "text": [
      "Setup terminado\n"
     ]
    }
   ],
   "source": [
    "import matplotlib.pyplot as plt\n",
    "print(\"Setup terminado\")"
   ]
  },
  {
   "cell_type": "markdown",
   "metadata": {},
   "source": [
    "# Ejercicio 1\n",
    "\n",
    "La Asociación de Empresas para el Ahorro de la Energía en la Edificación (aeaee) busca fomen-\n",
    "tar la cultura del ahorro de energía y desarrollar la comodidad en las edificaciones para reducir\n",
    "\n",
    "el consumo de energía eléctrica, gas y otros combustibles. Para ello, mediante un estudio se\n",
    "determinaron los factores siguientes que aportan calor a la vivienda. ¿A qué conclusiones llegas?\n",
    "\n",
    " **R=** En conclusión, según los datos proporcionados, se destaca que la azotea es el elemento que más genera calor en las viviendas ya que tiene un 70%, esto se puede deber o a los materiales de la azotea ya que hay materiales que pueden tener una alta capacidad de absorción de calor. Por ejemplo, techos de lámina metálica o tejas oscuras pueden absorber más calor que otros materiales más reflectantes.\n",
    " "
   ]
  },
  {
   "cell_type": "markdown",
   "metadata": {},
   "source": [
    "# Ejercicio 2\n",
    "Durante la semana de exámenes, los alumnos suelen desvelarse. Se les preguntó cuántas horas\n",
    "dormían y éstos son los resultados:"
   ]
  },
  {
   "cell_type": "markdown",
   "metadata": {},
   "source": [
    "**a) ¿Cuántos alumnos contestaron?**\n",
    "25"
   ]
  },
  {
   "cell_type": "markdown",
   "metadata": {},
   "source": [
    "**b) ¿Cuál es la clase más alta y cuál es la más baja?**\n",
    "- La clase más alta es: 3.8  \n",
    "- La clase más baja es: 7.4  "
   ]
  },
  {
   "cell_type": "markdown",
   "metadata": {},
   "source": [
    "**c) ¿Hacia dónde está la concentración de la distribución? ¿Qué significa esto?**\n",
    "\n",
    "La concentración de la distribución está hacia la izquierda, porque tiene mayor frecuencia que es 7.4 horas de sueño, esto significa que los alumnos duermen entre 2.6 y 3.8 horas."
   ]
  }
 ],
 "metadata": {
  "kernelspec": {
   "display_name": "Python 3",
   "language": "python",
   "name": "python3"
  },
  "language_info": {
   "codemirror_mode": {
    "name": "ipython",
    "version": 3
   },
   "file_extension": ".py",
   "mimetype": "text/x-python",
   "name": "python",
   "nbconvert_exporter": "python",
   "pygments_lexer": "ipython3",
   "version": "3.12.2"
  }
 },
 "nbformat": 4,
 "nbformat_minor": 2
}
